{
 "cells": [
  {
   "cell_type": "code",
   "execution_count": 2,
   "id": "75e96208",
   "metadata": {},
   "outputs": [],
   "source": [
    "import json\n",
    "import pandas as pd\n",
    "import os\n",
    "import numpy as np"
   ]
  },
  {
   "cell_type": "code",
   "execution_count": null,
   "id": "98734e2e",
   "metadata": {},
   "outputs": [],
   "source": [
    "df = pd.read_csv(\"aws_dea_questions_final.csv\")\n",
    "\n",
    "# Biến đổi các kí tự \"/n/n\" thành \"<br><br>\"\n",
    "df['question_text'] = df['question_text'].str.replace('/n/n', '<br><br>')\n",
    "df['question_text'] = df['question_text'].str.replace('\\n\\n', '<br><br>')"
   ]
  },
  {
   "cell_type": "code",
   "execution_count": 20,
   "id": "1f3b9035",
   "metadata": {},
   "outputs": [
    {
     "name": "stderr",
     "output_type": "stream",
     "text": [
      "/home/phongnl/exam_DEA/Quiz_app/.venv/lib/python3.12/site-packages/numpy/_core/fromnumeric.py:57: FutureWarning: 'DataFrame.swapaxes' is deprecated and will be removed in a future version. Please use 'DataFrame.transpose' instead.\n",
      "  return bound(*args, **kwds)\n"
     ]
    }
   ],
   "source": [
    "df = pd.read_csv(\"aws_dea_questions_final.csv\")\n",
    "\n",
    "# Biến đổi các kí tự \"/n/n\" thành \"<br><br>\"\n",
    "df['question_text'] = df['question_text'].str.replace('\\n\\n', '<br><br>')\n",
    "\n",
    "df = df [['question_text', 'correct_answer', 'A', 'C', 'D', 'B', 'E']]\n",
    "\n",
    "type1 = df[df['correct_answer'].str.len() == 1]\n",
    "type2 = df[df['correct_answer'].str.len() > 1]\n",
    "\n",
    "type1_split = np.array_split(type1, 23)\n",
    "type2_split = np.array_split(type2, 23)\n",
    "\n",
    "file_order = [0] * len(df)\n",
    "for i in range(23):\n",
    "    idx_type1 = type1_split[i].index.tolist()\n",
    "    idx_type2 = type2_split[i].index.tolist()\n",
    "    for idx in idx_type1 + idx_type2:\n",
    "        file_order[idx] = i + 1\n",
    "\n",
    "df['exam'] = file_order"
   ]
  },
  {
   "cell_type": "markdown",
   "id": "4f69879f",
   "metadata": {},
   "source": [
    "# Convert to json"
   ]
  },
  {
   "cell_type": "code",
   "execution_count": 21,
   "id": "5ee7f97a",
   "metadata": {},
   "outputs": [],
   "source": [
    "for exam_num in range(1, 24):\n",
    "    df_subset = df[df['exam'] == exam_num]\n",
    "    file_name = f'questions_{exam_num}.json'\n",
    "    if df_subset.empty:\n",
    "        continue\n",
    "    questions_list = []\n",
    "    for _, row in df_subset.iterrows():\n",
    "        # Lấy tất cả các cột chứa đáp án (A, B, C, D, E,...)\n",
    "        options_cols = [col for col in row.index if col not in ['question_text', 'correct_answer', 'exam']]\n",
    "        question_dict = {\n",
    "            \"question\": row['question_text'],\n",
    "            \"options\": [row[col] for col in options_cols if pd.notnull(row[col])],\n",
    "            \"answer\": row['correct_answer'] if len(row['correct_answer']) == 1 else list(row['correct_answer']),\n",
    "            \"type\": \"single\" if len(row['correct_answer']) == 1 else \"multiple\"\n",
    "        }\n",
    "        questions_list.append(question_dict)\n",
    "    \n",
    "    # Lưu vào file JSON\n",
    "    with open(file_name, 'w', encoding='utf-8') as f:\n",
    "        json.dump(questions_list, f, ensure_ascii=False, indent=2)\n",
    "    break"
   ]
  }
 ],
 "metadata": {
  "kernelspec": {
   "display_name": ".venv",
   "language": "python",
   "name": "python3"
  },
  "language_info": {
   "codemirror_mode": {
    "name": "ipython",
    "version": 3
   },
   "file_extension": ".py",
   "mimetype": "text/x-python",
   "name": "python",
   "nbconvert_exporter": "python",
   "pygments_lexer": "ipython3",
   "version": "3.12.3"
  }
 },
 "nbformat": 4,
 "nbformat_minor": 5
}
